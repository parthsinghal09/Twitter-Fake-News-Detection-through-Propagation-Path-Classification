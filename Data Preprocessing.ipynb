{
 "cells": [
  {
   "cell_type": "code",
   "execution_count": 1,
   "metadata": {},
   "outputs": [],
   "source": [
    "import os\n",
    "from scipy.stats import randint\n",
    "from scipy.stats import uniform\n",
    "import pickle"
   ]
  },
  {
   "cell_type": "code",
   "execution_count": 2,
   "metadata": {},
   "outputs": [],
   "source": [
    "path1 = r\"C:\\\\Users\\\\titan\\\\cll788_Term Paper\\\\Twitter15_dict\"\n",
    "path2 = r\"C:\\\\Users\\\\titan\\\\cll788_Term Paper\\\\Twitter16_dict\""
   ]
  },
  {
   "cell_type": "code",
   "execution_count": 3,
   "metadata": {},
   "outputs": [],
   "source": [
    "time_series_dict = {}\n",
    "n = 186\n",
    "for file_name in os.listdir(path1):\n",
    "    \n",
    "    file_name1 = path1 + \"\\\\\" + file_name\n",
    "    file = open(file_name1, 'r')\n",
    "    Lines = file.readlines()\n",
    "    s = file_name[4:(len(file_name) - 4)]\n",
    "\n",
    "    time_series_dict[s] = []\n",
    "    \n",
    "    if len(Lines) == n:\n",
    "        \n",
    "        for line in Lines:\n",
    "            line = line.rstrip('\\n')\n",
    "            line = line.replace('(', \"\")\n",
    "            line = line.replace(')', \"\")\n",
    "            line = line.replace('[', \"\")\n",
    "            line = line.replace(']', \"\")\n",
    "            arr_line = line.split(',')\n",
    "            l = []\n",
    "            for e in arr_line:\n",
    "                if e!=arr_line[-1]:\n",
    "                    e = e.strip()\n",
    "                    l.append(float(e))\n",
    "                elif e == arr_line[-1]:\n",
    "                    e = e.strip()\n",
    "                    t = float(e)\n",
    "            tup = (l, t)\n",
    "            time_series_dict[s].append(tup)\n",
    "                    \n",
    "    elif len(Lines)<n:\n",
    "        \n",
    "        d = n - len(Lines)\n",
    "        s1 = 0\n",
    "        \n",
    "        for line in Lines:\n",
    "            \n",
    "            line = line.rstrip('\\n')\n",
    "            line = line.replace('(', \"\")\n",
    "            line = line.replace(')', \"\")\n",
    "            line = line.replace('[', \"\")\n",
    "            line = line.replace(']', \"\")\n",
    "            arr_line = line.split(',')\n",
    "            l = []\n",
    "            for e in arr_line:\n",
    "                if e!=arr_line[-1]:\n",
    "                    e = e.strip()\n",
    "                    l.append(float(e))\n",
    "                elif e == arr_line[-1]:\n",
    "                    e = e.strip()\n",
    "                    t = float(e)\n",
    "            tup = (l, t)\n",
    "            \n",
    "            c1 = uniform.rvs()\n",
    "            if c1>0.5:\n",
    "                if (d - s1)>1:\n",
    "                    c2 = randint.rvs(1, (d - s1))\n",
    "                elif (d - s1)<1:\n",
    "                    c2 = randint.rvs((d - s1), 1)\n",
    "                else: \n",
    "                    c2 = 1\n",
    "            else: \n",
    "                c2 = 1\n",
    "            \n",
    "            s1 = s1 + c2\n",
    "            for i in range(c2):\n",
    "                time_series_dict[s].append(tup)\n",
    "                \n",
    "        if (d - s1)>0:\n",
    "            for i in range(d - s1):\n",
    "                if s1<len(time_series_dict[s]):\n",
    "                    time_series_dict[s].append(time_series_dict[s][s1])\n",
    "                else:\n",
    "                    s2 = randint.rvs(0, (len(time_series_dict[s]) - 1))\n",
    "                    time_series_dict[s].append(time_series_dict[s][s2])\n",
    "        \n",
    "    elif len(Lines)>n:\n",
    "        \n",
    "        for line in Lines:\n",
    "            if len(time_series_dict[s]) == n:\n",
    "                break\n",
    "            else:\n",
    "                line = line.rstrip('\\n')\n",
    "                line = line.replace('(', \"\")\n",
    "                line = line.replace(')', \"\")\n",
    "                line = line.replace('[', \"\")\n",
    "                line = line.replace(']', \"\")\n",
    "                arr_line = line.split(',')\n",
    "                l = []\n",
    "                for e in arr_line:\n",
    "                    if e!=arr_line[-1]:\n",
    "                        e = e.strip()\n",
    "                        l.append(float(e))\n",
    "                    elif e == arr_line[-1]:\n",
    "                        e = e.strip()\n",
    "                        t = float(e)\n",
    "                tup = (l, t)\n",
    "                time_series_dict[s].append(tup)\n",
    "                \n",
    "    file.close()"
   ]
  },
  {
   "cell_type": "code",
   "execution_count": 4,
   "metadata": {},
   "outputs": [
    {
     "data": {
      "text/plain": [
       "1490"
      ]
     },
     "execution_count": 4,
     "metadata": {},
     "output_type": "execute_result"
    }
   ],
   "source": [
    "len(time_series_dict)"
   ]
  },
  {
   "cell_type": "code",
   "execution_count": 5,
   "metadata": {},
   "outputs": [],
   "source": [
    "for name in time_series_dict.keys():\n",
    "    if len(time_series_dict[name])<n:\n",
    "        while len(time_series_dict[name])<n:\n",
    "            time_series_dict[name].append(time_series_dict[name][-1])  "
   ]
  },
  {
   "cell_type": "code",
   "execution_count": 6,
   "metadata": {},
   "outputs": [],
   "source": [
    "time_series_dict15 = time_series_dict"
   ]
  },
  {
   "cell_type": "code",
   "execution_count": 7,
   "metadata": {},
   "outputs": [],
   "source": [
    "time_dict15_to_write = open(\"timeseries_dict15.pickle\", \"wb\")\n",
    "pickle.dump(time_series_dict15, time_dict15_to_write)"
   ]
  },
  {
   "cell_type": "code",
   "execution_count": null,
   "metadata": {},
   "outputs": [],
   "source": []
  },
  {
   "cell_type": "code",
   "execution_count": null,
   "metadata": {},
   "outputs": [],
   "source": []
  },
  {
   "cell_type": "code",
   "execution_count": null,
   "metadata": {},
   "outputs": [],
   "source": []
  }
 ],
 "metadata": {
  "kernelspec": {
   "display_name": "Python 3",
   "language": "python",
   "name": "python3"
  },
  "language_info": {
   "codemirror_mode": {
    "name": "ipython",
    "version": 3
   },
   "file_extension": ".py",
   "mimetype": "text/x-python",
   "name": "python",
   "nbconvert_exporter": "python",
   "pygments_lexer": "ipython3",
   "version": "3.7.3"
  }
 },
 "nbformat": 4,
 "nbformat_minor": 4
}
