{
 "cells": [
  {
   "cell_type": "code",
   "execution_count": null,
   "metadata": {
    "id": "MK2F7ZRqiT4q"
   },
   "outputs": [],
   "source": [
    "from google.colab import drive\n",
    "\n",
    "drive.mount('/content/gdrive')"
   ]
  },
  {
   "cell_type": "code",
   "execution_count": null,
   "metadata": {
    "id": "2zlA8ddRiibN"
   },
   "outputs": [],
   "source": [
    "!ls '/content/gdrive/MyDrive/cll788_Term Paper'"
   ]
  },
  {
   "cell_type": "code",
   "execution_count": null,
   "metadata": {
    "id": "9el-RZePBOmU"
   },
   "outputs": [],
   "source": [
    "path = '/content/gdrive/MyDrive/cll788_Term Paper'"
   ]
  },
  {
   "cell_type": "code",
   "execution_count": null,
   "metadata": {
    "id": "4ttTzi5wBk8B"
   },
   "outputs": [],
   "source": [
    "import pickle\n",
    "import os"
   ]
  },
  {
   "cell_type": "code",
   "execution_count": null,
   "metadata": {
    "id": "_KTSGEbFiid9"
   },
   "outputs": [],
   "source": [
    "tm15_to_read = open(path + '/' 'timeseries_dict15.pickle', 'rb')\n",
    "loaded_tm15 = pickle.load(tm15_to_read)\n",
    "print(len(loaded_tm15))"
   ]
  },
  {
   "cell_type": "code",
   "execution_count": null,
   "metadata": {
    "id": "6_4XEls_iigu"
   },
   "outputs": [],
   "source": [
    "key15 = list(loaded_tm15.keys())"
   ]
  },
  {
   "cell_type": "code",
   "execution_count": null,
   "metadata": {
    "id": "tLYxETgiUwrz"
   },
   "outputs": [],
   "source": [
    "is_cuda = torch.cuda.is_available()\n",
    "if is_cuda:\n",
    "    device = torch.device(\"cuda\")\n",
    "else:\n",
    "    device = torch.device(\"cpu\")"
   ]
  },
  {
   "cell_type": "code",
   "execution_count": null,
   "metadata": {
    "id": "rNpze-4yiil_"
   },
   "outputs": [],
   "source": [
    "import pandas as pd\n",
    "import numpy as np\n",
    "from tqdm import tqdm\n",
    "\n",
    "import torch\n",
    "from torch.autograd import Variable\n",
    "from torch.nn import Linear, ReLU, CrossEntropyLoss, Sequential, Conv2d, Conv1d, MaxPool2d, Module, Softmax, BatchNorm2d, Dropout\n",
    "from torch.optim import Adam, SGD\n",
    "import torch.nn as nn\n",
    "from torch.utils.data import DataLoader"
   ]
  },
  {
   "cell_type": "code",
   "execution_count": null,
   "metadata": {
    "id": "wiiJJD9rIPCy"
   },
   "outputs": [],
   "source": [
    "x = []\n",
    "for key in key15:\n",
    "  l = []\n",
    "  for e in loaded_tm15[key]:\n",
    "    l.append(e[0])\n",
    "  l = np.array(l)\n",
    "  x.append(l)\n",
    "xn = np.array(x)\n",
    "xn.shape"
   ]
  },
  {
   "cell_type": "code",
   "execution_count": null,
   "metadata": {
    "id": "gBsOWKq_iirM"
   },
   "outputs": [],
   "source": [
    "train_x = torch.from_numpy(xn).to(device)\n",
    "train_x.shape"
   ]
  },
  {
   "cell_type": "code",
   "execution_count": null,
   "metadata": {
    "id": "LyJ0R3M7iiwu"
   },
   "outputs": [],
   "source": [
    "class RNNnet(nn.Module):\n",
    "\n",
    "    def __init__(self, input_size, hidden_size):\n",
    "        super(RNNnet, self).__init__()\n",
    "        self.input_size = input_size\n",
    "        self.hidden_size = hidden_size\n",
    "        self.rnn = nn.GRU(input_size = input_size, hidden_size = hidden_size, batch_first = True)\n",
    "  \n",
    "    def rnn_implement(self, x):\n",
    "\n",
    "        h_0 = torch.zeros((self.hidden_size, 1))\n",
    "        output, h_n = self.rnn(x, h_0)\n",
    "        output = output.mean(dim = 1)\n",
    "\n",
    "    return output"
   ]
  },
  {
   "cell_type": "code",
   "execution_count": null,
   "metadata": {
    "id": "4plFCaL1iizf"
   },
   "outputs": [],
   "source": [
    "class CNNnet(nn.Module):\n",
    "\n",
    "    def __init__(self, out_channels, kernel_size):\n",
    "        super(CNNnet, self).__init__()\n",
    "\n",
    "        self.cnn = nn.Conv1d(in_channels = 1, out_channels = out_channels, kernel_size = kernel_size)\n",
    "\n",
    "    def cnn_implement(self, x):\n",
    "\n",
    "        output = nn.functional.relu(self.cnn(x))\n",
    "\n",
    "    return output"
   ]
  },
  {
   "cell_type": "code",
   "execution_count": null,
   "metadata": {
    "id": "XZFz6yBAKx7E"
   },
   "outputs": [],
   "source": [
    "class MLP(nn.Module):\n",
    "  \n",
    "    def __init__(self, input_size, hidden_size, layers, output_size):\n",
    "        super(MLP, self).__init__()\n",
    "        self.mlp = nn.Sequential(nn.Linear(input_size, hidden_size), ReLU(inplace = True),\n",
    "                                 nn.Linear(hidden_size, hidden_size), ReLU(inplace = True),\n",
    "                                 nn.Linear(hidden_size, hidden_size), ReLU(inplace = True),\n",
    "                                 nn.Linear(hidden_size, output_size), Softmax(inplace = True))\n",
    "    def forward(self, x):\n",
    "\n",
    "        output = self.mlp(x)\n",
    "\n",
    "    return output"
   ]
  },
  {
   "cell_type": "code",
   "execution_count": null,
   "metadata": {
    "id": "GtCFaHOmii2X"
   },
   "outputs": [],
   "source": [
    "class EnsembleModel(nn.Module):\n",
    "\n",
    "    def __init__(self, input_size, hidden_size, out_channels, kernel_size, mlp_hidden_size, mlp_layers, output_size):\n",
    "        super(EnsembleModel, self).__init__()\n",
    "        self.rnn = RNNnet(input_size = input_size, hidden_size = hidden_size)\n",
    "        self.cnn = CNNnet(out_channels = out_channels, kernel_size = kernel_size)\n",
    "        self.mlp = MLP(input_size = (mlp_hidden_size + out_channels), hidden_size = mlp_hidden_size, layers = mlp_layers, \n",
    "                       output_size = output_size)\n",
    "\n",
    "    def forward(self, x):\n",
    "\n",
    "        h_0 = torch.zeros((self.hidden_size, 1))\n",
    "        output_rnn = self.rnn(x, h0)\n",
    "        output_cnn = self.cnn(x)\n",
    "        output_mlp = self.mpl(torch.cat([output_rnn, output_cnn], dim = 1))\n",
    "\n",
    "    return output_mlp"
   ]
  },
  {
   "cell_type": "code",
   "execution_count": null,
   "metadata": {
    "id": "GGQAcB1jS6MB"
   },
   "outputs": [],
   "source": [
    "n = train_x.shape[1]\n",
    "n"
   ]
  },
  {
   "cell_type": "code",
   "execution_count": null,
   "metadata": {
    "id": "xQ2wQ5wCSvUC"
   },
   "outputs": [],
   "source": [
    "batch_size = 32"
   ]
  },
  {
   "cell_type": "code",
   "execution_count": null,
   "metadata": {
    "id": "4oTi9SDxGTDV"
   },
   "outputs": [],
   "source": [
    "gru_hidden_size = 32"
   ]
  },
  {
   "cell_type": "code",
   "execution_count": null,
   "metadata": {
    "id": "kalEA-F9ER1a"
   },
   "outputs": [],
   "source": [
    "h0 = torch.zeros(1, batch_size, gru_hidden_size, dtype=torch.float, requires_grad = False).to(device)"
   ]
  },
  {
   "cell_type": "code",
   "execution_count": null,
   "metadata": {
    "id": "D5fh8E84C_j7"
   },
   "outputs": [],
   "source": [
    "model1 = RNNnet(train_x.shape[2], gru_hidden_size)\n",
    "optimizer1 = Adam(params = model1.parameters())\n",
    "criterion1 = CrossEntropyLoss(reduction = 'mean')\n",
    "model1 = model1.to(device)"
   ]
  },
  {
   "cell_type": "code",
   "execution_count": null,
   "metadata": {
    "id": "-q96qkvJChL3"
   },
   "outputs": [],
   "source": [
    "model2 = CNNnet()\n",
    "optimizer2 = Adam(params = model2.parameters())\n",
    "criterio2 = CrossEntropyLoss(reduction = 'mean')"
   ]
  },
  {
   "cell_type": "code",
   "execution_count": null,
   "metadata": {
    "id": "kO2CP9yqDR7E"
   },
   "outputs": [],
   "source": [
    "model = EnsembleModel()\n",
    "optimizer = Adam(params = model.parameters())\n",
    "criterion = CrossEntropyLoss(reduction = 'mean')"
   ]
  },
  {
   "cell_type": "code",
   "execution_count": null,
   "metadata": {
    "id": "SJ92F9zn39vB"
   },
   "outputs": [],
   "source": [
    "epochs = 200"
   ]
  },
  {
   "cell_type": "code",
   "execution_count": null,
   "metadata": {
    "id": "cQ8QLz1ZVRJV"
   },
   "outputs": [],
   "source": [
    "train_loader = DataLoader(train_x, batch_size = batch_size, shuffle = True, drop_last = True)"
   ]
  },
  {
   "cell_type": "code",
   "execution_count": null,
   "metadata": {
    "id": "txv85tInOsZP"
   },
   "outputs": [],
   "source": [
    "for ep in tqdm(range(epochs), desc = \"epochs\"):\n",
    "    for i, (inputs) in enumerate(train_loader):\n",
    "        optimizer1.zero_grad()\n",
    "        inputs = torch.tensor(inputs, dtype=torch.float, requires_grad = False).to(device)\n",
    "        labels = torch.tensor(labels, dtype = torch.long, requires_grad = False).to(device)\n",
    "        output1 = model1(inputs, h0)\n",
    "        loss1 = criterion1(output1, labels)\n",
    "        loss1.backward()\n",
    "        optimizer1.step()"
   ]
  },
  {
   "cell_type": "code",
   "execution_count": null,
   "metadata": {
    "id": "YtYrT2WX39x1"
   },
   "outputs": [],
   "source": []
  },
  {
   "cell_type": "code",
   "execution_count": null,
   "metadata": {
    "id": "lgN63Sap3908"
   },
   "outputs": [],
   "source": []
  },
  {
   "cell_type": "code",
   "execution_count": null,
   "metadata": {
    "id": "oIoDuuW83932"
   },
   "outputs": [],
   "source": []
  },
  {
   "cell_type": "code",
   "execution_count": null,
   "metadata": {
    "id": "SEB7PS_W396g"
   },
   "outputs": [],
   "source": []
  },
  {
   "cell_type": "code",
   "execution_count": null,
   "metadata": {
    "id": "L1knijOi399b"
   },
   "outputs": [],
   "source": []
  },
  {
   "cell_type": "code",
   "execution_count": null,
   "metadata": {
    "id": "1ooQCaYp3-BA"
   },
   "outputs": [],
   "source": []
  },
  {
   "cell_type": "code",
   "execution_count": null,
   "metadata": {
    "id": "9uBg7GSTii5O"
   },
   "outputs": [],
   "source": []
  },
  {
   "cell_type": "code",
   "execution_count": null,
   "metadata": {
    "id": "vHr5JrlTii8t"
   },
   "outputs": [],
   "source": []
  }
 ],
 "metadata": {
  "accelerator": "GPU",
  "colab": {
   "collapsed_sections": [],
   "name": "Model.ipynb",
   "provenance": []
  },
  "kernelspec": {
   "display_name": "Python 3",
   "language": "python",
   "name": "python3"
  },
  "language_info": {
   "codemirror_mode": {
    "name": "ipython",
    "version": 3
   },
   "file_extension": ".py",
   "mimetype": "text/x-python",
   "name": "python",
   "nbconvert_exporter": "python",
   "pygments_lexer": "ipython3",
   "version": "3.7.3"
  }
 },
 "nbformat": 4,
 "nbformat_minor": 1
}
